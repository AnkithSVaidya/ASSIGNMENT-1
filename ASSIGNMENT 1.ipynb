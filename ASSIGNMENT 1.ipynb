{
  "nbformat": 4,
  "nbformat_minor": 0,
  "metadata": {
    "colab": {
      "name": "Untitled4.ipynb",
      "provenance": []
    },
    "kernelspec": {
      "name": "python3",
      "display_name": "Python 3"
    }
  },
  "cells": [
    {
      "cell_type": "markdown",
      "metadata": {
        "id": "8ekEk74Cytop"
      },
      "source": [
        "**Questions 1:**\n",
        "Given the following jumbled word, OBANWRI guess the correct English word.\n",
        "\n",
        "A. RANIBOW\n",
        "B. RAINBOW\n",
        "C. BOWRANI\n",
        "D. ROBWANI\n",
        "\n",
        "\n",
        "\n",
        "**ANSWER:**\n",
        "A.RAINBOW"
      ]
    },
    {
      "cell_type": "markdown",
      "metadata": {
        "id": "DK556NjBzLBE"
      },
      "source": [
        "**Questions 2:**\n",
        "Write a program which prints “LETS UPGRADE”. (Please note that you have to\n",
        "print in ALL CAPS as given)"
      ]
    },
    {
      "cell_type": "code",
      "metadata": {
        "id": "AE_npi5Wyr2d",
        "outputId": "7d036028-16d2-41e0-8c65-36f18f7669fc",
        "colab": {
          "base_uri": "https://localhost:8080/"
        }
      },
      "source": [
        "value=\"lets upgrade\"\n",
        "x=value.upper()\n",
        "print(x)"
      ],
      "execution_count": 6,
      "outputs": [
        {
          "output_type": "stream",
          "text": [
            "LETS UPGRADE\n"
          ],
          "name": "stdout"
        }
      ]
    },
    {
      "cell_type": "markdown",
      "metadata": {
        "id": "js2h8hXyz50Y"
      },
      "source": [
        "**Questions 3:**\n",
        "Write a program that takes cost price and selling price as input and displays whether the transaction is a\n",
        "Profit or a Loss or Neither.\n",
        "INPUT FORMAT\n",
        "The first line contains the cost price.\n",
        "The second line contains the selling price.\n",
        "OUTPUT FORMAT\n",
        "Print \"Profit\" if the transaction is a profit or \"Loss\" if it is a loss. If it is neither\n",
        "profit nor loss, print \"Neither\". (You must not have quotes in your output)\n",
        "NOTE:\n",
        "Please stick to the input and output format. Don't add anything extra like\n",
        "'Enter cost price', 'Enter selling price', etc."
      ]
    },
    {
      "cell_type": "code",
      "metadata": {
        "id": "FAo3yEW0z_Bk",
        "outputId": "94b5cad0-b5e9-4830-a527-5804b195c2d2",
        "colab": {
          "base_uri": "https://localhost:8080/"
        }
      },
      "source": [
        "cp=int(input())\n",
        "sp=int(input())\n",
        "if cp>sp:\n",
        " print(\"loss\")\n",
        "elif cp<sp:\n",
        " print(\"profit\")\n",
        "else:\n",
        " print(\"neither\")"
      ],
      "execution_count": 3,
      "outputs": [
        {
          "output_type": "stream",
          "text": [
            "50\n",
            "80\n",
            "profit\n"
          ],
          "name": "stdout"
        }
      ]
    },
    {
      "cell_type": "markdown",
      "metadata": {
        "id": "MB_FBKJ50QMz"
      },
      "source": [
        "**Questions 4:**\n",
        "Write a program that takes an amount in Euros as input. You need to find its equivalent in\n",
        "Rupees and display it. Assume 1 Euro equals Rs. 80.\n",
        "Please note that you are expected to stick to the given input and output\n",
        "format as in sample test cases. Please don't add any extra lines such as\n",
        "'Enter a number', etc.\n",
        "Your program should take only one number as input and display the output."
      ]
    },
    {
      "cell_type": "code",
      "metadata": {
        "id": "UMAYiQtS0XsD",
        "outputId": "cacbff53-53e4-469f-bdf8-84d7fddd73e2",
        "colab": {
          "base_uri": "https://localhost:8080/"
        }
      },
      "source": [
        "amt=int(input())\n",
        "eu=amt/80\n",
        "print(eu,\"euros\")\n"
      ],
      "execution_count": 5,
      "outputs": [
        {
          "output_type": "stream",
          "text": [
            "640\n",
            "8.0 euros\n"
          ],
          "name": "stdout"
        }
      ]
    }
  ]
}